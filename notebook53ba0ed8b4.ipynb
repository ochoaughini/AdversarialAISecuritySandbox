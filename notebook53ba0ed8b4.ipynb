{
 "cells": [
  {
   "cell_type": "code",
   "execution_count": 1,
   "id": "949ecc9d",
   "metadata": {
    "execution": {
     "iopub.execute_input": "2025-09-15T21:25:13.070517Z",
     "iopub.status.busy": "2025-09-15T21:25:13.070277Z",
     "iopub.status.idle": "2025-09-15T21:26:07.030171Z",
     "shell.execute_reply": "2025-09-15T21:26:07.029425Z"
    },
    "papermill": {
     "duration": 53.964204,
     "end_time": "2025-09-15T21:26:07.031722",
     "exception": false,
     "start_time": "2025-09-15T21:25:13.067518",
     "status": "completed"
    },
    "tags": []
   },
   "outputs": [
    {
     "name": "stdout",
     "output_type": "stream",
     "text": [
      "🔧 RSNA Aneurysm Pipeline - Environment Check 🔧\r\n",
      "\r\n",
      "🌍 Environment:\r\n",
      "Python: 3.11.13\r\n",
      "Platform: linux\r\n",
      "Working directory: /kaggle/working\r\n",
      "Project root: /kaggle/input/rsna-aneurysm-pipeline-1\r\n",
      "Running in Kaggle environment\r\n",
      "\r\n",
      "📁 Checking directories:\r\n",
      "✅ Project root directory: /kaggle/input/rsna-aneurysm-pipeline-1\r\n",
      "✅ Source directory: /kaggle/input/rsna-aneurysm-pipeline-1/src\r\n",
      "✅ Config directory: /kaggle/input/rsna-aneurysm-pipeline-1/config\r\n",
      "✅ Data directory: /kaggle/input/rsna-intracranial-aneurysm-detection\r\n",
      "✅ Output directory: /kaggle/working\r\n",
      "\r\n",
      "📄 Checking configuration files:\r\n",
      "✅ Pipeline config file: /kaggle/input/rsna-aneurysm-pipeline-1/config/pipeline_config.json\r\n",
      "✅ Heuristics config file: /kaggle/input/rsna-aneurysm-pipeline-1/config/heuristics.yaml\r\n",
      "✅ RSNA location config file: /kaggle/input/rsna-aneurysm-pipeline-1/config/rsna_location.json\r\n",
      "\r\n",
      "🔍 Checking Python imports...\r\n",
      "/usr/local/lib/python3.11/dist-packages/albumentations/check_version.py:147: UserWarning: Error fetching version info <urlopen error [Errno -3] Temporary failure in name resolution>\r\n",
      "  data = fetch_version_info()\r\n",
      "✅ All required Python packages are installed\r\n",
      "\r\n",
      "📊 Summary:\r\n",
      "Directories: ✅\r\n",
      "Config files: ✅\r\n",
      "Python imports: ✅\r\n",
      "Config validation: ✅\r\n",
      "\r\n",
      "✨ All checks passed! Your environment is ready to use. ✨\r\n"
     ]
    }
   ],
   "source": [
    "# Add this to a new Kaggle notebook cell\n",
    "!python /kaggle/input/rsna-aneurysm-pipeline-1/check_environment.py"
   ]
  },
  {
   "cell_type": "code",
   "execution_count": 2,
   "id": "f6368d7d",
   "metadata": {
    "execution": {
     "iopub.execute_input": "2025-09-15T21:26:07.036423Z",
     "iopub.status.busy": "2025-09-15T21:26:07.036163Z",
     "iopub.status.idle": "2025-09-15T21:26:44.162329Z",
     "shell.execute_reply": "2025-09-15T21:26:44.161565Z"
    },
    "papermill": {
     "duration": 37.12994,
     "end_time": "2025-09-15T21:26:44.163728",
     "exception": false,
     "start_time": "2025-09-15T21:26:07.033788",
     "status": "completed"
    },
    "tags": []
   },
   "outputs": [
    {
     "name": "stdout",
     "output_type": "stream",
     "text": [
      "/usr/local/lib/python3.11/dist-packages/albumentations/check_version.py:147: UserWarning: Error fetching version info <urlopen error [Errno -3] Temporary failure in name resolution>\r\n",
      "  data = fetch_version_info()\r\n",
      "21:26:43 - INFO - ================================================================================\r\n",
      "21:26:43 - INFO - Starting RSNA Intracranial Aneurysm Detection Training\r\n",
      "21:26:43 - INFO - ================================================================================\r\n",
      "21:26:43 - INFO - Python version: 3.11.13\r\n",
      "21:26:43 - INFO - PyTorch version: 2.6.0+cu124\r\n",
      "21:26:43 - INFO - CUDA available: True\r\n",
      "21:26:43 - INFO - CUDA device: Tesla T4\r\n",
      "21:26:43 - INFO - Command line arguments: {'data_dir': '/kaggle/input/rsna-intracranial-aneurysm-detection', 'output_dir': '/kaggle/working/output', 'config': None, 'debug': False, 'num_folds': 5}\r\n",
      "21:26:43 - ERROR - Error during training: 'Namespace' object has no attribute 'seed'\r\n",
      "Traceback (most recent call last):\r\n",
      "  File \"/kaggle/input/rsna-aneurysm-pipeline-1/src/train_model.py\", line 911, in main\r\n",
      "    seed=args.seed\r\n",
      "         ^^^^^^^^^\r\n",
      "AttributeError: 'Namespace' object has no attribute 'seed'\r\n",
      "21:26:43 - INFO - Training completed.\r\n",
      "Traceback (most recent call last):\r\n",
      "  File \"/kaggle/input/rsna-aneurysm-pipeline-1/main.py\", line 48, in <module>\r\n",
      "    train_model_main(**train_args)\r\n",
      "  File \"/kaggle/input/rsna-aneurysm-pipeline-1/src/train_model.py\", line 911, in main\r\n",
      "    seed=args.seed\r\n",
      "         ^^^^^^^^^\r\n",
      "AttributeError: 'Namespace' object has no attribute 'seed'\r\n"
     ]
    }
   ],
   "source": [
    "# In a new cell\n",
    "!mkdir -p /kaggle/working/output\n",
    "!python /kaggle/input/rsna-aneurysm-pipeline-1/main.py train \\\n",
    "    --data-dir /kaggle/input/rsna-intracranial-aneurysm-detection \\\n",
    "    --output-dir /kaggle/working/output"
   ]
  },
  {
   "cell_type": "code",
   "execution_count": 3,
   "id": "fca2c393",
   "metadata": {
    "execution": {
     "iopub.execute_input": "2025-09-15T21:26:44.168526Z",
     "iopub.status.busy": "2025-09-15T21:26:44.168281Z",
     "iopub.status.idle": "2025-09-15T21:27:20.337630Z",
     "shell.execute_reply": "2025-09-15T21:27:20.336877Z"
    },
    "papermill": {
     "duration": 36.173249,
     "end_time": "2025-09-15T21:27:20.339012",
     "exception": false,
     "start_time": "2025-09-15T21:26:44.165763",
     "status": "completed"
    },
    "tags": []
   },
   "outputs": [
    {
     "name": "stdout",
     "output_type": "stream",
     "text": [
      "/usr/local/lib/python3.11/dist-packages/albumentations/check_version.py:147: UserWarning: Error fetching version info <urlopen error [Errno -3] Temporary failure in name resolution>\r\n",
      "  data = fetch_version_info()\r\n",
      "21:27:19 - INFO - ================================================================================\r\n",
      "21:27:19 - INFO - Starting RSNA Intracranial Aneurysm Detection Training\r\n",
      "21:27:19 - INFO - ================================================================================\r\n",
      "21:27:19 - INFO - Python version: 3.11.13\r\n",
      "21:27:19 - INFO - PyTorch version: 2.6.0+cu124\r\n",
      "21:27:19 - INFO - CUDA available: True\r\n",
      "21:27:19 - INFO - CUDA device: Tesla T4\r\n",
      "21:27:19 - INFO - Command line arguments: {'data_dir': '/kaggle/input/rsna-intracranial-aneurysm-detection', 'output_dir': '/kaggle/working/output', 'config': None, 'debug': False, 'num_folds': 5}\r\n",
      "21:27:19 - ERROR - Error during training: 'Namespace' object has no attribute 'seed'\r\n",
      "Traceback (most recent call last):\r\n",
      "  File \"/kaggle/input/rsna-aneurysm-pipeline-1/src/train_model.py\", line 911, in main\r\n",
      "    seed=args.seed\r\n",
      "         ^^^^^^^^^\r\n",
      "AttributeError: 'Namespace' object has no attribute 'seed'\r\n",
      "21:27:19 - INFO - Training completed.\r\n",
      "Traceback (most recent call last):\r\n",
      "  File \"/kaggle/input/rsna-aneurysm-pipeline-1/main.py\", line 48, in <module>\r\n",
      "    train_model_main(**train_args)\r\n",
      "  File \"/kaggle/input/rsna-aneurysm-pipeline-1/src/train_model.py\", line 911, in main\r\n",
      "    seed=args.seed\r\n",
      "         ^^^^^^^^^\r\n",
      "AttributeError: 'Namespace' object has no attribute 'seed'\r\n"
     ]
    }
   ],
   "source": [
    "# Create output directory\n",
    "!mkdir -p /kaggle/working/output\n",
    "\n",
    "# Run training\n",
    "!python /kaggle/input/rsna-aneurysm-pipeline-1/main.py train \\\n",
    "    --data-dir /kaggle/input/rsna-intracranial-aneurysm-detection \\\n",
    "    --output-dir /kaggle/working/output"
   ]
  },
  {
   "cell_type": "markdown",
   "id": "76192866",
   "metadata": {
    "execution": {
     "iopub.execute_input": "2025-09-15T17:15:31.957939Z",
     "iopub.status.busy": "2025-09-15T17:15:31.957714Z",
     "iopub.status.idle": "2025-09-15T17:16:08.160511Z",
     "shell.execute_reply": "2025-09-15T17:16:08.159564Z",
     "shell.execute_reply.started": "2025-09-15T17:15:31.957914Z"
    },
    "papermill": {
     "duration": 0.001736,
     "end_time": "2025-09-15T21:27:20.343014",
     "exception": false,
     "start_time": "2025-09-15T21:27:20.341278",
     "status": "completed"
    },
    "tags": []
   },
   "source": [
    "#### After training completes\n",
    "!mkdir -p /kaggle/working/predictions\n",
    "!python /kaggle/input/rsna-aneurysm-pipeline-1/main.py infer \\\n",
    "    --series-root /kaggle/input/rsna-intracranial-aneurysm-detection/test \\\n",
    "    --output /kaggle/working/predictions/submission.csv"
   ]
  },
  {
   "cell_type": "code",
   "execution_count": 4,
   "id": "661b49ac",
   "metadata": {
    "execution": {
     "iopub.execute_input": "2025-09-15T21:27:20.347597Z",
     "iopub.status.busy": "2025-09-15T21:27:20.347352Z",
     "iopub.status.idle": "2025-09-15T21:27:20.564461Z",
     "shell.execute_reply": "2025-09-15T21:27:20.563730Z"
    },
    "papermill": {
     "duration": 0.22083,
     "end_time": "2025-09-15T21:27:20.565632",
     "exception": false,
     "start_time": "2025-09-15T21:27:20.344802",
     "status": "completed"
    },
    "tags": []
   },
   "outputs": [
    {
     "name": "stdout",
     "output_type": "stream",
     "text": [
      "Mon Sep 15 21:27:20 2025       \r\n",
      "+-----------------------------------------------------------------------------------------+\r\n",
      "| NVIDIA-SMI 560.35.03              Driver Version: 560.35.03      CUDA Version: 12.6     |\r\n",
      "|-----------------------------------------+------------------------+----------------------+\r\n",
      "| GPU  Name                 Persistence-M | Bus-Id          Disp.A | Volatile Uncorr. ECC |\r\n",
      "| Fan  Temp   Perf          Pwr:Usage/Cap |           Memory-Usage | GPU-Util  Compute M. |\r\n",
      "|                                         |                        |               MIG M. |\r\n",
      "|=========================================+========================+======================|\r\n",
      "|   0  Tesla T4                       Off |   00000000:00:04.0 Off |                    0 |\r\n",
      "| N/A   38C    P8              9W /   70W |       1MiB /  15360MiB |      0%      Default |\r\n",
      "|                                         |                        |                  N/A |\r\n",
      "+-----------------------------------------+------------------------+----------------------+\r\n",
      "|   1  Tesla T4                       Off |   00000000:00:05.0 Off |                    0 |\r\n",
      "| N/A   38C    P8              9W /   70W |       1MiB /  15360MiB |      0%      Default |\r\n",
      "|                                         |                        |                  N/A |\r\n",
      "+-----------------------------------------+------------------------+----------------------+\r\n",
      "                                                                                         \r\n",
      "+-----------------------------------------------------------------------------------------+\r\n",
      "| Processes:                                                                              |\r\n",
      "|  GPU   GI   CI        PID   Type   Process name                              GPU Memory |\r\n",
      "|        ID   ID                                                               Usage      |\r\n",
      "|=========================================================================================|\r\n",
      "|  No running processes found                                                             |\r\n",
      "+-----------------------------------------------------------------------------------------+\r\n"
     ]
    }
   ],
   "source": [
    "!nvidia-smi"
   ]
  },
  {
   "cell_type": "code",
   "execution_count": 5,
   "id": "b8419fc3",
   "metadata": {
    "execution": {
     "iopub.execute_input": "2025-09-15T21:27:20.571521Z",
     "iopub.status.busy": "2025-09-15T21:27:20.571277Z",
     "iopub.status.idle": "2025-09-15T21:27:20.698900Z",
     "shell.execute_reply": "2025-09-15T21:27:20.698285Z"
    },
    "papermill": {
     "duration": 0.13169,
     "end_time": "2025-09-15T21:27:20.700057",
     "exception": false,
     "start_time": "2025-09-15T21:27:20.568367",
     "status": "completed"
    },
    "tags": []
   },
   "outputs": [
    {
     "name": "stdout",
     "output_type": "stream",
     "text": [
      "total 12\r\n",
      "drwxr-xr-x 2 root root 4096 Sep 15 21:26 .\r\n",
      "drwxr-xr-x 3 root root 4096 Sep 15 21:26 ..\r\n",
      "-rw-r--r-- 1 root root 1267 Sep 15 21:27 training.log\r\n"
     ]
    }
   ],
   "source": [
    "!ls -la /kaggle/working/output"
   ]
  }
 ],
 "metadata": {
  "kaggle": {
   "accelerator": "nvidiaTeslaT4",
   "dataSources": [
    {
     "databundleVersionId": 13747926,
     "sourceId": 99552,
     "sourceType": "competition"
    },
    {
     "datasetId": 8276355,
     "sourceId": 13070614,
     "sourceType": "datasetVersion"
    }
   ],
   "dockerImageVersionId": 31090,
   "isGpuEnabled": true,
   "isInternetEnabled": false,
   "language": "python",
   "sourceType": "notebook"
  },
  "kernelspec": {
   "display_name": "Python 3",
   "language": "python",
   "name": "python3"
  },
  "language_info": {
   "codemirror_mode": {
    "name": "ipython",
    "version": 3
   },
   "file_extension": ".py",
   "mimetype": "text/x-python",
   "name": "python",
   "nbconvert_exporter": "python",
   "pygments_lexer": "ipython3",
   "version": "3.11.13"
  },
  "papermill": {
   "default_parameters": {},
   "duration": 133.528927,
   "end_time": "2025-09-15T21:27:20.919015",
   "environment_variables": {},
   "exception": null,
   "input_path": "__notebook__.ipynb",
   "output_path": "__notebook__.ipynb",
   "parameters": {},
   "start_time": "2025-09-15T21:25:07.390088",
   "version": "2.6.0"
  }
 },
 "nbformat": 4,
 "nbformat_minor": 5
}
